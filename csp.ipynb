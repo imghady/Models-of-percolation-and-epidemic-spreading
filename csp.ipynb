{
 "cells": [
  {
   "cell_type": "markdown",
   "source": [
    "<p dir = \"rtl\", style = \"text-align:right;font-size:22px\">\n",
    "    به نام خدا <br>\n",
    "    <br>\n",
    "پروژه درس سیستم های پیچیده\n",
    "<br>\n",
    "موضوع: بررسی سیستم های شیوع و اپیدمی\n",
    "<br>\n",
    "<br>\n",
    "    اعضای گروه: <br>\n",
    "    امیررضا قدیانی 99109206 <br>\n",
    "    علیرضا حبیب زاده 99109206 <br>\n",
    "    یاسمن کاتبی 99109206 <br>\n",
    "    <br>\n",
    "    <br>بهار 1402\n",
    "    <br>استاد: دکتر شاهین روحانی\n",
    "        <br>    <br>    <br>\n",
    "        <br>\n",
    "\n",
    "<p/>\n"
   ],
   "metadata": {
    "collapsed": false
   }
  }
 ],
 "metadata": {
  "kernelspec": {
   "display_name": "Python 3",
   "language": "python",
   "name": "python3"
  },
  "language_info": {
   "codemirror_mode": {
    "name": "ipython",
    "version": 2
   },
   "file_extension": ".py",
   "mimetype": "text/x-python",
   "name": "python",
   "nbconvert_exporter": "python",
   "pygments_lexer": "ipython2",
   "version": "2.7.6"
  }
 },
 "nbformat": 4,
 "nbformat_minor": 0
}